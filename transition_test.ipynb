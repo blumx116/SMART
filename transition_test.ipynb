{
 "cells": [
  {
   "cell_type": "code",
   "execution_count": 38,
   "metadata": {},
   "outputs": [],
   "source": [
    "import numpy as np\n",
    "from tqdm import tqdm "
   ]
  },
  {
   "cell_type": "code",
   "execution_count": 79,
   "metadata": {},
   "outputs": [],
   "source": [
    "NUM_CELLS = 7\n",
    "ESCAPE_CELL = 3\n",
    "ESCAPE_PROBA = 0.5\n",
    "GENERAL_ESCAPE_PROBA = 0.1\n",
    "NUM_SAMPLES = 100000\n",
    "SELF_TRANSITION = 0.3333"
   ]
  },
  {
   "cell_type": "code",
   "execution_count": 80,
   "metadata": {},
   "outputs": [],
   "source": [
    "    def F(x2:int, x1: int) -> float:\n",
    "        assert x1 >= 0 and x1 < NUM_CELLS\n",
    "        assert x2 >= 0 and x2 < NUM_CELLS\n",
    "        if x2 == x1:\n",
    "            return SELF_TRANSITION\n",
    "        if abs(x2 - x1) != 1:\n",
    "            return 0.\n",
    "        else:\n",
    "            proba = ( 1- SELF_TRANSITION) / 2 \n",
    "            if x1 == 0 or x1 == NUM_CELLS - 1:\n",
    "                proba *= 2\n",
    "            return proba "
   ]
  },
  {
   "cell_type": "code",
   "execution_count": 81,
   "metadata": {},
   "outputs": [],
   "source": [
    "def T(x: int) -> float:\n",
    "    if x == ESCAPE_CELL:\n",
    "        return ESCAPE_PROBA\n",
    "    else:\n",
    "        return GENERAL_ESCAPE_PROBA"
   ]
  },
  {
   "cell_type": "code",
   "execution_count": 82,
   "metadata": {},
   "outputs": [],
   "source": [
    "memoize = { }\n",
    "def Tstar(xstar: int, x0: int, k: int) -> float:\n",
    "    if k == 0:\n",
    "        return T(xstar) * float(xstar == x0)\n",
    "    if (xstar, x0, k) not in memoize:\n",
    "        sum = 0\n",
    "        for i in range(NUM_CELLS):\n",
    "            sum += T(xstar) * ((1-T(i))/ T(i)) * Tstar(i,x0,k-1)* F(xstar,i)\n",
    "        memoize[(xstar, x0, k)] = sum \n",
    "    return memoize[(xstar, x0, k)]"
   ]
  },
  {
   "cell_type": "code",
   "execution_count": 83,
   "metadata": {},
   "outputs": [],
   "source": [
    "hits = [np.zeros((NUM_CELLS, 1000)) for _ in range(NUM_CELLS)]"
   ]
  },
  {
   "cell_type": "code",
   "execution_count": 84,
   "metadata": {},
   "outputs": [],
   "source": [
    "transition_matrix = np.zeros((NUM_CELLS, NUM_CELLS))\n",
    "for i in range(NUM_CELLS):\n",
    "    for j in range(NUM_CELLS):\n",
    "        transition_matrix[j, i] = F(j, i)"
   ]
  },
  {
   "cell_type": "code",
   "execution_count": 85,
   "metadata": {},
   "outputs": [],
   "source": [
    "def monte_carlo_sample(x: int) -> (int, int):\n",
    "    k = 0\n",
    "    while True:\n",
    "        if T(x) > np.random.uniform():\n",
    "            return x, k\n",
    "        else:\n",
    "            p = transition_matrix[:,x]\n",
    "            x = int(np.random.choice(NUM_CELLS, p=p))\n",
    "            k += 1"
   ]
  },
  {
   "cell_type": "code",
   "execution_count": 86,
   "metadata": {},
   "outputs": [
    {
     "output_type": "stream",
     "name": "stderr",
     "text": "100%|██████████| 100000/100000 [00:17<00:00, 5722.54it/s]\n100%|██████████| 100000/100000 [00:16<00:00, 5894.71it/s]\n100%|██████████| 100000/100000 [00:14<00:00, 6811.06it/s]\n100%|██████████| 100000/100000 [00:07<00:00, 13160.05it/s]\n100%|██████████| 100000/100000 [00:14<00:00, 6976.52it/s]\n100%|██████████| 100000/100000 [00:18<00:00, 5514.98it/s]\n100%|██████████| 100000/100000 [00:18<00:00, 5299.67it/s]\n"
    }
   ],
   "source": [
    "for i in range(NUM_CELLS):\n",
    "    for _ in tqdm(range(NUM_SAMPLES)):\n",
    "        xstar, k = monte_carlo_sample(i)\n",
    "        hits[i][xstar, k] += 1"
   ]
  },
  {
   "cell_type": "code",
   "execution_count": 87,
   "metadata": {},
   "outputs": [],
   "source": [
    "for i in range(NUM_CELLS):\n",
    "    hits[i] /= hits[i].sum()"
   ]
  },
  {
   "cell_type": "code",
   "execution_count": 88,
   "metadata": {},
   "outputs": [
    {
     "output_type": "execute_result",
     "data": {
      "text/plain": "array([[9.870e-02, 2.991e-02, 2.747e-02, 1.829e-02, 1.490e-02, 1.226e-02,\n        9.940e-03, 8.610e-03, 7.000e-03, 5.710e-03],\n       [0.000e+00, 6.056e-02, 3.564e-02, 3.332e-02, 2.551e-02, 2.134e-02,\n        1.744e-02, 1.523e-02, 1.308e-02, 1.054e-02],\n       [0.000e+00, 0.000e+00, 1.801e-02, 1.623e-02, 1.500e-02, 1.331e-02,\n        1.115e-02, 9.390e-03, 8.490e-03, 6.980e-03],\n       [0.000e+00, 0.000e+00, 0.000e+00, 2.746e-02, 2.939e-02, 2.922e-02,\n        2.632e-02, 2.327e-02, 2.115e-02, 1.747e-02],\n       [0.000e+00, 0.000e+00, 0.000e+00, 0.000e+00, 9.500e-04, 1.340e-03,\n        1.400e-03, 1.260e-03, 1.250e-03, 1.250e-03],\n       [0.000e+00, 0.000e+00, 0.000e+00, 0.000e+00, 0.000e+00, 3.300e-04,\n        4.500e-04, 7.300e-04, 6.900e-04, 1.070e-03],\n       [0.000e+00, 0.000e+00, 0.000e+00, 0.000e+00, 0.000e+00, 0.000e+00,\n        9.000e-05, 1.800e-04, 2.800e-04, 3.100e-04]])"
     },
     "metadata": {},
     "execution_count": 88
    }
   ],
   "source": [
    "hits[0][:,:10]"
   ]
  },
  {
   "cell_type": "code",
   "execution_count": 89,
   "metadata": {},
   "outputs": [],
   "source": [
    "predicted = [np.zeros((NUM_CELLS, 10000)) for _ in range(NUM_CELLS)]\n",
    "for xstar in range(NUM_CELLS):\n",
    "    for x0 in range(NUM_CELLS):\n",
    "        for k in range(10000):\n",
    "            predicted[x0][xstar, k] = Tstar(xstar, x0, k)"
   ]
  },
  {
   "cell_type": "code",
   "execution_count": 90,
   "metadata": {},
   "outputs": [
    {
     "output_type": "execute_result",
     "data": {
      "text/plain": "array([[1.00000000e-01, 2.99970000e-02, 2.70000001e-02, 1.88991900e-02,\n        1.53896760e-02, 1.23926355e-02, 1.02138181e-02, 8.44777099e-03,\n        7.02188602e-03, 5.84856546e-03],\n       [0.00000000e+00, 6.00030000e-02, 3.59981998e-02, 3.24000001e-02,\n        2.59193520e-02, 2.16535815e-02, 1.79455426e-02, 1.49586126e-02,\n        1.24734107e-02, 1.04150081e-02],\n       [0.00000000e+00, 0.00000000e+00, 1.80018000e-02, 1.61999999e-02,\n        1.54801800e-02, 1.33798800e-02, 1.14890618e-02, 9.72404602e-03,\n        8.19964593e-03, 6.89346210e-03],\n       [0.00000000e+00, 0.00000000e+00, 0.00000000e+00, 2.70040502e-02,\n        2.88014398e-02, 2.93715285e-02, 2.68108654e-02, 2.38462785e-02,\n        2.07470823e-02, 1.78814429e-02],\n       [0.00000000e+00, 0.00000000e+00, 0.00000000e+00, 0.00000000e+00,\n        9.00180014e-04, 1.23012299e-03, 1.42912420e-03, 1.45746159e-03,\n        1.41583437e-03, 1.33129075e-03],\n       [0.00000000e+00, 0.00000000e+00, 0.00000000e+00, 0.00000000e+00,\n        0.00000000e+00, 2.70067507e-04, 4.50067500e-04, 6.12382457e-04,\n        7.16560600e-04, 7.78636398e-04],\n       [0.00000000e+00, 0.00000000e+00, 0.00000000e+00, 0.00000000e+00,\n        0.00000000e+00, 0.00000000e+00, 8.10243030e-05, 1.59331861e-04,\n        2.31518701e-04, 2.84427593e-04]])"
     },
     "metadata": {},
     "execution_count": 90
    }
   ],
   "source": [
    "predicted[0][:,:10]"
   ]
  },
  {
   "cell_type": "code",
   "execution_count": 94,
   "metadata": {},
   "outputs": [
    {
     "output_type": "execute_result",
     "data": {
      "text/plain": "array([[0.987     , 0.99709971, 1.0174074 , 0.96776635, 0.96818152,\n        0.98929723, 0.9731914 , 1.01920376, 0.99688317, 0.97630779],\n       [       nan, 1.00928287, 0.99004951, 1.02839506, 0.98420671,\n        0.98551826, 0.97182907, 1.01814255, 1.04863059, 1.01200114],\n       [       nan,        nan, 1.00045551, 1.00185186, 0.96898098,\n        0.99477723, 0.9704883 , 0.96564742, 1.03541056, 1.01255362],\n       [       nan,        nan,        nan, 1.0168845 , 1.0204351 ,\n        0.99484097, 0.98169155, 0.97583361, 1.01942045, 0.97699051],\n       [       nan,        nan,        nan,        nan, 1.05534447,\n        1.08932197, 0.97962095, 0.86451678, 0.88287163, 0.93893839],\n       [       nan,        nan,        nan,        nan,        nan,\n        1.22191671, 0.99985002, 1.1920655 , 0.96293321, 1.37419725],\n       [       nan,        nan,        nan,        nan,        nan,\n               nan, 1.11077784, 1.12971755, 1.20940554, 1.08990832]])"
     },
     "metadata": {},
     "execution_count": 94
    }
   ],
   "source": [
    "hits[0][:,:10] / predicted[0][:,:10]"
   ]
  },
  {
   "cell_type": "code",
   "execution_count": null,
   "metadata": {},
   "outputs": [],
   "source": []
  }
 ],
 "metadata": {
  "language_info": {
   "codemirror_mode": {
    "name": "ipython",
    "version": 3
   },
   "file_extension": ".py",
   "mimetype": "text/x-python",
   "name": "python",
   "nbconvert_exporter": "python",
   "pygments_lexer": "ipython3",
   "version": "3.7.6-final"
  },
  "orig_nbformat": 2,
  "kernelspec": {
   "name": "python37664bittorchcondadf4ac8b892204b648b5a8fadc6b46ea7",
   "display_name": "Python 3.7.6 64-bit ('torch': conda)"
  }
 },
 "nbformat": 4,
 "nbformat_minor": 2
}